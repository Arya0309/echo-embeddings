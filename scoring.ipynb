{
 "cells": [
  {
   "cell_type": "code",
   "execution_count": 1,
   "id": "4aaf9ad3",
   "metadata": {},
   "outputs": [],
   "source": [
    "dir_path = \"/home/S113062628/project/echo-embeddings/mteb_results/echo_mistral/STS/no_model_name_available/no_revision_available/\""
   ]
  },
  {
   "cell_type": "code",
   "execution_count": 10,
   "id": "bc584edc",
   "metadata": {},
   "outputs": [
    {
     "name": "stdout",
     "output_type": "stream",
     "text": [
      "Average main_score across 10 files: 0.6830067\n"
     ]
    },
    {
     "data": {
      "text/html": [
       "<div>\n",
       "<style scoped>\n",
       "    .dataframe tbody tr th:only-of-type {\n",
       "        vertical-align: middle;\n",
       "    }\n",
       "\n",
       "    .dataframe tbody tr th {\n",
       "        vertical-align: top;\n",
       "    }\n",
       "\n",
       "    .dataframe thead th {\n",
       "        text-align: right;\n",
       "    }\n",
       "</style>\n",
       "<table border=\"1\" class=\"dataframe\">\n",
       "  <thead>\n",
       "    <tr style=\"text-align: right;\">\n",
       "      <th></th>\n",
       "      <th>file</th>\n",
       "      <th>main_score</th>\n",
       "    </tr>\n",
       "  </thead>\n",
       "  <tbody>\n",
       "    <tr>\n",
       "      <th>0</th>\n",
       "      <td>STS14.json</td>\n",
       "      <td>0.687792</td>\n",
       "    </tr>\n",
       "    <tr>\n",
       "      <th>1</th>\n",
       "      <td>BIOSSES.json</td>\n",
       "      <td>0.779783</td>\n",
       "    </tr>\n",
       "    <tr>\n",
       "      <th>2</th>\n",
       "      <td>STS22.json</td>\n",
       "      <td>0.066221</td>\n",
       "    </tr>\n",
       "    <tr>\n",
       "      <th>3</th>\n",
       "      <td>SICK-R.json</td>\n",
       "      <td>0.741940</td>\n",
       "    </tr>\n",
       "    <tr>\n",
       "      <th>4</th>\n",
       "      <td>STS12.json</td>\n",
       "      <td>0.609801</td>\n",
       "    </tr>\n",
       "    <tr>\n",
       "      <th>5</th>\n",
       "      <td>STSBenchmark.json</td>\n",
       "      <td>0.752916</td>\n",
       "    </tr>\n",
       "    <tr>\n",
       "      <th>6</th>\n",
       "      <td>STS17.json</td>\n",
       "      <td>0.831408</td>\n",
       "    </tr>\n",
       "    <tr>\n",
       "      <th>7</th>\n",
       "      <td>STS16.json</td>\n",
       "      <td>0.765336</td>\n",
       "    </tr>\n",
       "    <tr>\n",
       "      <th>8</th>\n",
       "      <td>STS13.json</td>\n",
       "      <td>0.793570</td>\n",
       "    </tr>\n",
       "    <tr>\n",
       "      <th>9</th>\n",
       "      <td>STS15.json</td>\n",
       "      <td>0.801300</td>\n",
       "    </tr>\n",
       "  </tbody>\n",
       "</table>\n",
       "</div>"
      ],
      "text/plain": [
       "                file  main_score\n",
       "0         STS14.json    0.687792\n",
       "1       BIOSSES.json    0.779783\n",
       "2         STS22.json    0.066221\n",
       "3        SICK-R.json    0.741940\n",
       "4         STS12.json    0.609801\n",
       "5  STSBenchmark.json    0.752916\n",
       "6         STS17.json    0.831408\n",
       "7         STS16.json    0.765336\n",
       "8         STS13.json    0.793570\n",
       "9         STS15.json    0.801300"
      ]
     },
     "execution_count": 10,
     "metadata": {},
     "output_type": "execute_result"
    }
   ],
   "source": [
    "import os\n",
    "import json\n",
    "import pandas as pd\n",
    "\n",
    "main_score = 0.0\n",
    "count = 0\n",
    "\n",
    "data = []\n",
    "\n",
    "for json_log in os.listdir(dir_path):\n",
    "    if json_log.endswith(\".json\") and json_log != \"model_meta.json\":\n",
    "        with open(os.path.join(dir_path, json_log), \"r\") as f:\n",
    "            log_data = json.load(f)\n",
    "            main_score += log_data[\"scores\"][\"test\"][0][\"main_score\"]\n",
    "            data.append({\n",
    "                \"file\": json_log,\n",
    "                \"main_score\": log_data[\"scores\"][\"test\"][0][\"main_score\"]\n",
    "            })\n",
    "            count += 1\n",
    "\n",
    "average_main_score = main_score / count if count > 0 else 0\n",
    "print(f\"Average main_score across {count} files: {average_main_score}\")\n",
    "\n",
    "df = pd.DataFrame(data)\n",
    "\n",
    "df"
   ]
  }
 ],
 "metadata": {
  "kernelspec": {
   "display_name": "echo_embedding_env",
   "language": "python",
   "name": "python3"
  },
  "language_info": {
   "codemirror_mode": {
    "name": "ipython",
    "version": 3
   },
   "file_extension": ".py",
   "mimetype": "text/x-python",
   "name": "python",
   "nbconvert_exporter": "python",
   "pygments_lexer": "ipython3",
   "version": "3.10.18"
  }
 },
 "nbformat": 4,
 "nbformat_minor": 5
}
